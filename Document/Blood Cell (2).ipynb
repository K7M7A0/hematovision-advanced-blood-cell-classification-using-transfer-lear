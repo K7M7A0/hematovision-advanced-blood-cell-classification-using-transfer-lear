{
 "cells": [
  {
   "cell_type": "code",
   "execution_count": 3,
   "id": "bf917fe9-55cf-49c9-95a3-a527d30072e2",
   "metadata": {},
   "outputs": [
    {
     "name": "stdout",
     "output_type": "stream",
     "text": [
      "Requirement already satisfied: seaborn in c:\\users\\kurap\\anaconda3\\lib\\site-packages (0.13.2)\n",
      "Requirement already satisfied: numpy!=1.24.0,>=1.20 in c:\\users\\kurap\\anaconda3\\lib\\site-packages (from seaborn) (1.26.4)\n",
      "Requirement already satisfied: pandas>=1.2 in c:\\users\\kurap\\anaconda3\\lib\\site-packages (from seaborn) (2.2.2)\n",
      "Requirement already satisfied: matplotlib!=3.6.1,>=3.4 in c:\\users\\kurap\\anaconda3\\lib\\site-packages (from seaborn) (3.8.4)\n",
      "Requirement already satisfied: contourpy>=1.0.1 in c:\\users\\kurap\\anaconda3\\lib\\site-packages (from matplotlib!=3.6.1,>=3.4->seaborn) (1.2.0)\n",
      "Requirement already satisfied: cycler>=0.10 in c:\\users\\kurap\\anaconda3\\lib\\site-packages (from matplotlib!=3.6.1,>=3.4->seaborn) (0.11.0)\n",
      "Requirement already satisfied: fonttools>=4.22.0 in c:\\users\\kurap\\anaconda3\\lib\\site-packages (from matplotlib!=3.6.1,>=3.4->seaborn) (4.51.0)\n",
      "Requirement already satisfied: kiwisolver>=1.3.1 in c:\\users\\kurap\\anaconda3\\lib\\site-packages (from matplotlib!=3.6.1,>=3.4->seaborn) (1.4.4)\n",
      "Requirement already satisfied: packaging>=20.0 in c:\\users\\kurap\\anaconda3\\lib\\site-packages (from matplotlib!=3.6.1,>=3.4->seaborn) (23.2)\n",
      "Requirement already satisfied: pillow>=8 in c:\\users\\kurap\\anaconda3\\lib\\site-packages (from matplotlib!=3.6.1,>=3.4->seaborn) (10.3.0)\n",
      "Requirement already satisfied: pyparsing>=2.3.1 in c:\\users\\kurap\\anaconda3\\lib\\site-packages (from matplotlib!=3.6.1,>=3.4->seaborn) (3.0.9)\n",
      "Requirement already satisfied: python-dateutil>=2.7 in c:\\users\\kurap\\anaconda3\\lib\\site-packages (from matplotlib!=3.6.1,>=3.4->seaborn) (2.9.0.post0)\n",
      "Requirement already satisfied: pytz>=2020.1 in c:\\users\\kurap\\anaconda3\\lib\\site-packages (from pandas>=1.2->seaborn) (2024.1)\n",
      "Requirement already satisfied: tzdata>=2022.7 in c:\\users\\kurap\\anaconda3\\lib\\site-packages (from pandas>=1.2->seaborn) (2023.3)\n",
      "Requirement already satisfied: six>=1.5 in c:\\users\\kurap\\anaconda3\\lib\\site-packages (from python-dateutil>=2.7->matplotlib!=3.6.1,>=3.4->seaborn) (1.16.0)\n"
     ]
    }
   ],
   "source": [
    "!pip install seaborn"
   ]
  },
  {
   "cell_type": "code",
   "execution_count": 4,
   "id": "4d7cf45c-a82d-41cc-8c52-4222cbf6c751",
   "metadata": {},
   "outputs": [
    {
     "ename": "NameError",
     "evalue": "name 'bloodCell_df' is not defined",
     "output_type": "error",
     "traceback": [
      "\u001b[1;31m---------------------------------------------------------------------------\u001b[0m",
      "\u001b[1;31mNameError\u001b[0m                                 Traceback (most recent call last)",
      "Cell \u001b[1;32mIn[4], line 1\u001b[0m\n\u001b[1;32m----> 1\u001b[0m bloodCell_df\u001b[38;5;241m.\u001b[39mhead()\n",
      "\u001b[1;31mNameError\u001b[0m: name 'bloodCell_df' is not defined"
     ]
    }
   ],
   "source": [
    "bloodCell_df.head()"
   ]
  },
  {
   "cell_type": "code",
   "execution_count": 12,
   "id": "a1d6e02c-c067-4d73-b4a7-053d78645432",
   "metadata": {},
   "outputs": [
    {
     "name": "stdout",
     "output_type": "stream",
     "text": [
      "Requirement already satisfied: numpy in c:\\users\\kurap\\anaconda3\\lib\\site-packages (1.26.4)\n"
     ]
    }
   ],
   "source": [
    "!pip install numpy"
   ]
  },
  {
   "cell_type": "code",
   "execution_count": 13,
   "id": "f8c700b6-7f84-45fd-b0c6-a87a0401b699",
   "metadata": {},
   "outputs": [
    {
     "name": "stdout",
     "output_type": "stream",
     "text": [
      "Requirement already satisfied: matplotlib in c:\\users\\kurap\\anaconda3\\lib\\site-packages (3.8.4)\n",
      "Requirement already satisfied: contourpy>=1.0.1 in c:\\users\\kurap\\anaconda3\\lib\\site-packages (from matplotlib) (1.2.0)\n",
      "Requirement already satisfied: cycler>=0.10 in c:\\users\\kurap\\anaconda3\\lib\\site-packages (from matplotlib) (0.11.0)\n",
      "Requirement already satisfied: fonttools>=4.22.0 in c:\\users\\kurap\\anaconda3\\lib\\site-packages (from matplotlib) (4.51.0)\n",
      "Requirement already satisfied: kiwisolver>=1.3.1 in c:\\users\\kurap\\anaconda3\\lib\\site-packages (from matplotlib) (1.4.4)\n",
      "Requirement already satisfied: numpy>=1.21 in c:\\users\\kurap\\anaconda3\\lib\\site-packages (from matplotlib) (1.26.4)\n",
      "Requirement already satisfied: packaging>=20.0 in c:\\users\\kurap\\anaconda3\\lib\\site-packages (from matplotlib) (23.2)\n",
      "Requirement already satisfied: pillow>=8 in c:\\users\\kurap\\anaconda3\\lib\\site-packages (from matplotlib) (10.3.0)\n",
      "Requirement already satisfied: pyparsing>=2.3.1 in c:\\users\\kurap\\anaconda3\\lib\\site-packages (from matplotlib) (3.0.9)\n",
      "Requirement already satisfied: python-dateutil>=2.7 in c:\\users\\kurap\\anaconda3\\lib\\site-packages (from matplotlib) (2.9.0.post0)\n",
      "Requirement already satisfied: six>=1.5 in c:\\users\\kurap\\anaconda3\\lib\\site-packages (from python-dateutil>=2.7->matplotlib) (1.16.0)\n"
     ]
    }
   ],
   "source": [
    "!pip install matplotlib"
   ]
  },
  {
   "cell_type": "code",
   "execution_count": 14,
   "id": "620b8f64-1c29-4fbe-b5b9-65dedb7f85d5",
   "metadata": {},
   "outputs": [
    {
     "name": "stdout",
     "output_type": "stream",
     "text": [
      "Requirement already satisfied: scipy in c:\\users\\kurap\\anaconda3\\lib\\site-packages (1.13.1)\n",
      "Requirement already satisfied: numpy<2.3,>=1.22.4 in c:\\users\\kurap\\anaconda3\\lib\\site-packages (from scipy) (1.26.4)\n"
     ]
    }
   ],
   "source": [
    "!pip install scipy"
   ]
  },
  {
   "cell_type": "code",
   "execution_count": 15,
   "id": "f49c2710-dca3-4156-ba1d-ed14414f4d55",
   "metadata": {},
   "outputs": [
    {
     "name": "stdout",
     "output_type": "stream",
     "text": [
      "Requirement already satisfied: tensorflow in c:\\users\\kurap\\anaconda3\\lib\\site-packages (2.19.0)\n",
      "Requirement already satisfied: absl-py>=1.0.0 in c:\\users\\kurap\\anaconda3\\lib\\site-packages (from tensorflow) (2.3.0)\n",
      "Requirement already satisfied: astunparse>=1.6.0 in c:\\users\\kurap\\anaconda3\\lib\\site-packages (from tensorflow) (1.6.3)\n",
      "Requirement already satisfied: flatbuffers>=24.3.25 in c:\\users\\kurap\\anaconda3\\lib\\site-packages (from tensorflow) (25.2.10)\n",
      "Requirement already satisfied: gast!=0.5.0,!=0.5.1,!=0.5.2,>=0.2.1 in c:\\users\\kurap\\anaconda3\\lib\\site-packages (from tensorflow) (0.6.0)\n",
      "Requirement already satisfied: google-pasta>=0.1.1 in c:\\users\\kurap\\anaconda3\\lib\\site-packages (from tensorflow) (0.2.0)\n",
      "Requirement already satisfied: libclang>=13.0.0 in c:\\users\\kurap\\anaconda3\\lib\\site-packages (from tensorflow) (18.1.1)\n",
      "Requirement already satisfied: opt-einsum>=2.3.2 in c:\\users\\kurap\\anaconda3\\lib\\site-packages (from tensorflow) (3.4.0)\n",
      "Requirement already satisfied: packaging in c:\\users\\kurap\\anaconda3\\lib\\site-packages (from tensorflow) (23.2)\n",
      "Requirement already satisfied: protobuf!=4.21.0,!=4.21.1,!=4.21.2,!=4.21.3,!=4.21.4,!=4.21.5,<6.0.0dev,>=3.20.3 in c:\\users\\kurap\\anaconda3\\lib\\site-packages (from tensorflow) (3.20.3)\n",
      "Requirement already satisfied: requests<3,>=2.21.0 in c:\\users\\kurap\\anaconda3\\lib\\site-packages (from tensorflow) (2.32.2)\n",
      "Requirement already satisfied: setuptools in c:\\users\\kurap\\anaconda3\\lib\\site-packages (from tensorflow) (69.5.1)\n",
      "Requirement already satisfied: six>=1.12.0 in c:\\users\\kurap\\anaconda3\\lib\\site-packages (from tensorflow) (1.16.0)\n",
      "Requirement already satisfied: termcolor>=1.1.0 in c:\\users\\kurap\\anaconda3\\lib\\site-packages (from tensorflow) (3.1.0)\n",
      "Requirement already satisfied: typing-extensions>=3.6.6 in c:\\users\\kurap\\anaconda3\\lib\\site-packages (from tensorflow) (4.12.2)\n",
      "Requirement already satisfied: wrapt>=1.11.0 in c:\\users\\kurap\\anaconda3\\lib\\site-packages (from tensorflow) (1.14.1)\n",
      "Requirement already satisfied: grpcio<2.0,>=1.24.3 in c:\\users\\kurap\\anaconda3\\lib\\site-packages (from tensorflow) (1.73.1)\n",
      "Requirement already satisfied: tensorboard~=2.19.0 in c:\\users\\kurap\\anaconda3\\lib\\site-packages (from tensorflow) (2.19.0)\n",
      "Requirement already satisfied: keras>=3.5.0 in c:\\users\\kurap\\anaconda3\\lib\\site-packages (from tensorflow) (3.10.0)\n",
      "Requirement already satisfied: numpy<2.2.0,>=1.26.0 in c:\\users\\kurap\\anaconda3\\lib\\site-packages (from tensorflow) (1.26.4)\n",
      "Requirement already satisfied: h5py>=3.11.0 in c:\\users\\kurap\\anaconda3\\lib\\site-packages (from tensorflow) (3.11.0)\n",
      "Requirement already satisfied: ml-dtypes<1.0.0,>=0.5.1 in c:\\users\\kurap\\anaconda3\\lib\\site-packages (from tensorflow) (0.5.1)\n",
      "Requirement already satisfied: wheel<1.0,>=0.23.0 in c:\\users\\kurap\\anaconda3\\lib\\site-packages (from astunparse>=1.6.0->tensorflow) (0.43.0)\n",
      "Requirement already satisfied: rich in c:\\users\\kurap\\anaconda3\\lib\\site-packages (from keras>=3.5.0->tensorflow) (13.3.5)\n",
      "Requirement already satisfied: namex in c:\\users\\kurap\\anaconda3\\lib\\site-packages (from keras>=3.5.0->tensorflow) (0.1.0)\n",
      "Requirement already satisfied: optree in c:\\users\\kurap\\anaconda3\\lib\\site-packages (from keras>=3.5.0->tensorflow) (0.16.0)\n",
      "Requirement already satisfied: charset-normalizer<4,>=2 in c:\\users\\kurap\\anaconda3\\lib\\site-packages (from requests<3,>=2.21.0->tensorflow) (2.0.4)\n",
      "Requirement already satisfied: idna<4,>=2.5 in c:\\users\\kurap\\anaconda3\\lib\\site-packages (from requests<3,>=2.21.0->tensorflow) (3.7)\n",
      "Requirement already satisfied: urllib3<3,>=1.21.1 in c:\\users\\kurap\\anaconda3\\lib\\site-packages (from requests<3,>=2.21.0->tensorflow) (2.2.2)\n",
      "Requirement already satisfied: certifi>=2017.4.17 in c:\\users\\kurap\\anaconda3\\lib\\site-packages (from requests<3,>=2.21.0->tensorflow) (2025.6.15)\n",
      "Requirement already satisfied: markdown>=2.6.8 in c:\\users\\kurap\\anaconda3\\lib\\site-packages (from tensorboard~=2.19.0->tensorflow) (3.4.1)\n",
      "Requirement already satisfied: tensorboard-data-server<0.8.0,>=0.7.0 in c:\\users\\kurap\\anaconda3\\lib\\site-packages (from tensorboard~=2.19.0->tensorflow) (0.7.2)\n",
      "Requirement already satisfied: werkzeug>=1.0.1 in c:\\users\\kurap\\anaconda3\\lib\\site-packages (from tensorboard~=2.19.0->tensorflow) (3.0.3)\n",
      "Requirement already satisfied: MarkupSafe>=2.1.1 in c:\\users\\kurap\\anaconda3\\lib\\site-packages (from werkzeug>=1.0.1->tensorboard~=2.19.0->tensorflow) (2.1.3)\n",
      "Requirement already satisfied: markdown-it-py<3.0.0,>=2.2.0 in c:\\users\\kurap\\anaconda3\\lib\\site-packages (from rich->keras>=3.5.0->tensorflow) (2.2.0)\n",
      "Requirement already satisfied: pygments<3.0.0,>=2.13.0 in c:\\users\\kurap\\anaconda3\\lib\\site-packages (from rich->keras>=3.5.0->tensorflow) (2.15.1)\n",
      "Requirement already satisfied: mdurl~=0.1 in c:\\users\\kurap\\anaconda3\\lib\\site-packages (from markdown-it-py<3.0.0,>=2.2.0->rich->keras>=3.5.0->tensorflow) (0.1.0)\n"
     ]
    }
   ],
   "source": [
    "!pip install tensorflow"
   ]
  },
  {
   "cell_type": "code",
   "execution_count": 16,
   "id": "ec582212-c0e8-498d-abf5-a75e7fb59e17",
   "metadata": {},
   "outputs": [
    {
     "name": "stdout",
     "output_type": "stream",
     "text": [
      "Requirement already satisfied: flask in c:\\users\\kurap\\anaconda3\\lib\\site-packages (3.0.3)\n",
      "Requirement already satisfied: Werkzeug>=3.0.0 in c:\\users\\kurap\\anaconda3\\lib\\site-packages (from flask) (3.0.3)\n",
      "Requirement already satisfied: Jinja2>=3.1.2 in c:\\users\\kurap\\anaconda3\\lib\\site-packages (from flask) (3.1.4)\n",
      "Requirement already satisfied: itsdangerous>=2.1.2 in c:\\users\\kurap\\anaconda3\\lib\\site-packages (from flask) (2.2.0)\n",
      "Requirement already satisfied: click>=8.1.3 in c:\\users\\kurap\\anaconda3\\lib\\site-packages (from flask) (8.1.7)\n",
      "Requirement already satisfied: blinker>=1.6.2 in c:\\users\\kurap\\anaconda3\\lib\\site-packages (from flask) (1.6.2)\n",
      "Requirement already satisfied: colorama in c:\\users\\kurap\\anaconda3\\lib\\site-packages (from click>=8.1.3->flask) (0.4.6)\n",
      "Requirement already satisfied: MarkupSafe>=2.0 in c:\\users\\kurap\\anaconda3\\lib\\site-packages (from Jinja2>=3.1.2->flask) (2.1.3)\n"
     ]
    }
   ],
   "source": [
    "!pip install flask"
   ]
  },
  {
   "cell_type": "code",
   "execution_count": 17,
   "id": "738fbebe-4f8a-47e7-b531-215ffa8d7423",
   "metadata": {},
   "outputs": [
    {
     "name": "stdout",
     "output_type": "stream",
     "text": [
      "Requirement already satisfied: pandas in c:\\users\\kurap\\anaconda3\\lib\\site-packages (2.2.2)\n",
      "Requirement already satisfied: numpy>=1.26.0 in c:\\users\\kurap\\anaconda3\\lib\\site-packages (from pandas) (1.26.4)\n",
      "Requirement already satisfied: python-dateutil>=2.8.2 in c:\\users\\kurap\\anaconda3\\lib\\site-packages (from pandas) (2.9.0.post0)\n",
      "Requirement already satisfied: pytz>=2020.1 in c:\\users\\kurap\\anaconda3\\lib\\site-packages (from pandas) (2024.1)\n",
      "Requirement already satisfied: tzdata>=2022.7 in c:\\users\\kurap\\anaconda3\\lib\\site-packages (from pandas) (2023.3)\n",
      "Requirement already satisfied: six>=1.5 in c:\\users\\kurap\\anaconda3\\lib\\site-packages (from python-dateutil>=2.8.2->pandas) (1.16.0)\n"
     ]
    }
   ],
   "source": [
    "!pip install pandas"
   ]
  },
  {
   "cell_type": "code",
   "execution_count": null,
   "id": "2c8458b0-751c-4b3a-9a41-bf5b839d2bab",
   "metadata": {},
   "outputs": [],
   "source": [
    "import os\n",
    "import pandas as pd\n",
    "import tensorflow as tf\n",
    "from tensorflow import keras\n",
    "import matplotlib.pyplot as plt\n",
    "import seaborn as sns\n",
    "import cv2\n",
    "from tensorflow.keras.models import load_model\n",
    "from tensorflow.keras.applications.mobilenet_v2 import preprocess_input\n",
    "from sklearn.metrics import confusion_matrix, accuracy_score\n",
    "from sklearn.metrics import classification_report\n",
    "from sklearn.model_selection import train_test_split\n",
    "from tensorflow.keras.preprocessing.image import ImageDataGenerator"
   ]
  },
  {
   "cell_type": "code",
   "execution_count": null,
   "id": "682fbab5-d052-4250-ae17-1560f3e89c8e",
   "metadata": {},
   "outputs": [],
   "source": [
    "import numpy as np\n",
    "def show_knee_images (image_gen):\n",
    "test_dict=test.class_indices\n",
    "classes list(test_dict.keys())\n",
    "images, labels=next(image_gen)\n",
    "plt.figure(figsize=(20,20))\n",
    "length= len(labels)\n",
    "if length<25:\n",
    "r=length\n",
    "else:\n",
    "r = 25\n",
    "for i in range(r):\n",
    "plt.subplot(5,5,i+1)\n",
    "image=(images[i]+1)/2\n",
    "plt.imshow(image)\n",
    "index=np.argmax(labels[i])\n",
    "class_name=classes [index]\n",
    "plt.title(class_name, color=\"green\", fontsize=16)\n",
    "plt.axis('off')\n",
    "plt.show()\n",
    "show_knee_images(train)"
   ]
  },
  {
   "cell_type": "code",
   "execution_count": null,
   "id": "d6c0181d-7689-402d-a3b0-ea5807ffa37c",
   "metadata": {},
   "outputs": [],
   "source": [
    "train images, test images train test split(bloodCell df, test size 6.3, random state=42) \n",
    "train_set, val_set = train_test_split(bloodCell_df, test_size=0.2, random_state=42)"
   ]
  },
  {
   "cell_type": "code",
   "execution_count": null,
   "id": "2b20c6a3-f5db-4683-ba2d-54bf61c05661",
   "metadata": {},
   "outputs": [],
   "source": [
    "print (train_set.shape)\n",
    "print(test_images.shape)\n",
    "print(val_set.shape)\n",
    "print(train_images.shape)"
   ]
  },
  {
   "cell_type": "code",
   "execution_count": null,
   "id": "f95cbb08-a866-4a97-8b0c-afcc1a8c3f3d",
   "metadata": {},
   "outputs": [],
   "source": [
    "image gen ImageDataGenerator (preprocessing function= tf.keras.applications.mobilenet_v2.preprocess_input) train image gen.flow from dataframe (dataframe train_set,x_col=\"filepaths\",y_col=\"labels\",\n",
    "target_size=(244,244),\n",
    "color_mode=\"rgb\",\n",
    "class_mode=\"categorical\",\n",
    "batch_size=8,\n",
    "shuffle=False\n",
    ")\n",
    "test image gen.flow_from_dataframe(dataframe test_images,x_col=\"filepaths\", y_col=\"labels\",\n",
    "target_size=(244,244),\n",
    "color_mode=\"rgb\",\n",
    "class_mode=categorical\",\n",
    "batch_size=8,\n",
    "shuffle=False\n",
    ")\n",
    "val = image_gen.flow_from_dataframe(dataframe= val_set,x_col=\"filepaths\", y_col=\"labels\",\n",
    "target_size=(244,244),\n",
    "color_mode= 'rgb',\n",
    "class_mode=\"categorical\",\n",
    "batch_size=8,\n",
    "shuffle=False\n",
    ")"
   ]
  },
  {
   "cell_type": "code",
   "execution_count": null,
   "id": "9ede369c-7fb7-432e-87cf-3481398ea031",
   "metadata": {},
   "outputs": [],
   "source": [
    "model\n",
    "keras.models.Sequential ([\n",
    "keras.layers.Conv2D(filters=128, kernel_size=(8, 8), strides xi = (3, 3) , activation 'relu', input_shape=(224, 224, 3)),\n",
    "keras.layers.BatchNormalization(),\n",
    "keras.layers.Conv2D(filters-256, kernel_size=(5, 5), strides (1, 1), activation 'relu', padding=\"same\"),\n",
    "keras.layers.BatchNormalization(),\n",
    "keras.layers. MaxPool2D (pool_size=(3, 3)),\n",
    "keras.layers.Conv2D(filters=256, kernel_size=(3, 3), strides (1, 1), activation 'relu', padding=\"same\"),\n",
    "keras.layers.BatchNormalization(),\n",
    "keras.layers.Conv2D(filters=256, kernel_size=(1, 1), strides (1, 1), activation 'relu', padding=\"same\"),\n",
    "keras.layers.BatchNormalization(),\n",
    "keras.layers.Conv2D(filters-256, kernel_size=(1, 1), strides(1, 1), activation 'relu', padding=\"same\"),\n",
    "keras.layers.BatchNormalization(),\n",
    "keras.layers.Conv2D(filters=512, kernel_size=(3, 3), activation 'relu', padding=\"same\"),\n",
    "keras.layers.BatchNormalization(),\n",
    "keras.layers.MaxPool2D (pool_size=(2, 2)),\n",
    "keras.layers.Conv2D(filters=512, kernel_size=(3, 3), activation 'relu', padding=\"same\"),\n",
    "keras.layers.BatchNormalization(),\n",
    "keras.layers.Conv2D(filters=512, kernel_size=(3, 3), activation='relu', padding=\"same\"),\n",
    "keras.layers.BatchNormalization(),\n",
    "keras.layers.MaxPool2D (pool_size=(2, 2)),\n",
    "keras.layers.Conv2D(filters=512, kernel_size=(3, 3), activation 'relu', padding=\"same\"),\n",
    "keras.layers.BatchNormalization(),\n",
    "keras.layers.MaxPool2D (pool_size=(2, 2)),\n",
    "keras.layers.Flatten(),\n",
    "keras.layers. Dense (1024, activation 'relu'),\n",
    "keras.layers. Dropout (0.5),\n",
    "keras.layers. Dense (1024, activation 'relu'),\n",
    "keras.layers. Dropout (0.5),\n",
    "keras.layers. Dense(4, activation='softmax')\n",
    "])\n",
    ")\n",
    "Skill Tags:\n",
    "keras.layers. Dense (1024, activation='relu'),\n",
    "keras.layers. Dropout (0.5),\n",
    "keras.layers. Dense(4, activation='softmax')\n",
    "])\n",
    "model.compile(\n",
    "loss='categorical_crossentropy',\n",
    "optimizer-tf.optimizers.SGD(learning_rate=0.001),\n",
    "metrics=['accuracy']\n",
    "model.summary()"
   ]
  },
  {
   "cell_type": "code",
   "execution_count": null,
   "id": "de728001-8609-4358-ab3c-4996052ca029",
   "metadata": {},
   "outputs": [],
   "source": [
    "pred model.predict(test)\n",
    "pred np.argmax(pred, axis=1) #pick class with highest probability\n",
    "labels = (train.class_indices)\n",
    "labels dict((v,k) for k,v in labels.items())\n",
    "pred2 = [labels [k] fork in pred]"
   ]
  },
  {
   "cell_type": "code",
   "execution_count": null,
   "id": "6992b0de-ab7f-4f2d-a13b-d8fa19d0ef09",
   "metadata": {},
   "outputs": [],
   "source": [
    "plt.plot(history.history['accuracy'] + history1.history['accuracy'])\n",
    "plt.plot(history.history['val_accuracy'] + history1.history['val_accuracy'])\n",
    "plt.title('model accuracy')\n",
    "plt.ylabel('accuracy')\n",
    "plt.xlabel('epoch')\n",
    "plt.legend(['train', 'val'], loc='upper left')\n",
    "plt.show()"
   ]
  },
  {
   "cell_type": "code",
   "execution_count": null,
   "id": "f735ca27-d924-4e7a-9320-73d75057cce3",
   "metadata": {},
   "outputs": [],
   "source": [
    "from sklearn.metrics import confusion_matrix, accuracy_score\n",
    "from sklearn.metrics import classification_report\n",
    "y_test = test_images.labels # set y_test to the expected output\n",
    "print(classification_report(y_test, pred2))\n",
    "print(\"Accuracy of the Model:\", \"{:.1f}%\".format(accuracy_score(y_test, pred2)*100))"
   ]
  },
  {
   "cell_type": "code",
   "execution_count": null,
   "id": "b2a35c5e-c21c-4c7b-ac86-cd9c2f3283b7",
   "metadata": {},
   "outputs": [],
   "source": [
    "import matplotlib.pyplot as plt\n",
    "import seaborn as sns\n",
    "from sklearn.metrics import confusion_matrix\n",
    "class_labels = ['EOSINOPHIL', 'LYMPHOCYTE', 'MONOCYTE', 'NEUTROPHIL']\n",
    "cm confusion_matrix(y_test, pred2)\n",
    "plt.figure(figsize=(10, 7))\n",
    "sns.heatmap(cm, annot True, fmt='g', vmin-e, cmap= 'Blues')\n",
    "plt.xticks (ticks-[0.5, 1.5, 2.5, 3.5], labels-class_labels)\n",
    "plt.yticks (ticks [8.5, 1.5, 2.5, 3.5), labels-class_labels)\n",
    "plt.xlabel(\"Predicted\")\n",
    "plt.ylabel(\"Actual\")\n",
    "plt.title(\"Confusion Matrix\")\n",
    "plt.show()"
   ]
  },
  {
   "cell_type": "code",
   "execution_count": null,
   "id": "dec384ec-b5aa-4f00-a002-64de1a490104",
   "metadata": {},
   "outputs": [],
   "source": [
    "model.save(\"Blood Cell.h5\")"
   ]
  },
  {
   "cell_type": "code",
   "execution_count": null,
   "id": "134e3537-25f0-4929-b38a-4a7fb2510d2a",
   "metadata": {},
   "outputs": [],
   "source": [
    "<!DOCTYPE html>\n",
    "<html lang=\"en\">\n",
    "<head>\n",
    "    <meta charset=\"UTF-8\">\n",
    "    <meta name=\"viewport\" content=\"width=device-width, initial-scale=1.0\">\n",
    "    <title>HematoVision</title>\n",
    "    <link rel=\"stylesheet\" href=\"https://cdn.jsdelivr.net/npm/bootstrap@5.1.3/dist/css/bootstrap.min.css\">\n",
    "    <style>\n",
    "        body {\n",
    "            font-family: Arial, sans-serif;\n",
    "            margin: 0;\n",
    "            padding: 0;\n",
    "        }\n",
    "        .carousel-inner img {\n",
    "            width: 100%;\n",
    "            height: 500px;\n",
    "        }\n",
    "    </style>\n",
    "</head>\n",
    "<body>\n",
    "    <nav class=\"navbar navbar-expand-lg navbar-light bg-light\">\n",
    "        <div class=\"container-fluid\">\n",
    "         <a class=\"navbar-brand\" href=\"#\">HematoVision</a>\n",
    "            <button class=\"navbar-toggler\" type=\"button\" data-bs-toggle=\"collapse\" data-bs-target=\"#navbarSupportedContent\" aria-controls=\"navbarSupportedContent\" aria-expanded=\"false\" aria-label=\"Toggle navigation\">\n",
    "                <span class=\"navbar-toggler-icon\"></span>\n",
    "            </button>\n",
    "            <div class=\"collapse navbar-collapse\" id=\"navbarSupportedContent\">\n",
    "                <ul class=\"navbar-nav me-auto mb-2 mb-lg-0\">\n",
    "                    <li class=\"nav-item\">\n",
    "                        <a class=\"nav-link active\" aria-current=\"page\" href=\"#\">Home</a>\n",
    "                    </li>\n",
    "                    <li class=\"nav-item\">\n",
    "                        <a class=\"nav-link\" href=\"#\">About</a>\n",
    "                    </li>\n",
    "                    <li class=\"nav-item\">\n",
    "                        <a class=\"nav-link\" href=\"#\">Contact</a>\n",
    "                    </li>\n",
    "                </ul>\n",
    "            </div>\n",
    "        </div>\n",
    "    </nav>\n",
    "    <div id=\"carouselExampleControls\" class=\"carousel slide\" data-bs-ride=\"carousel\">\n",
    "        <div class=\"carousel-inner\">\n",
    "            <div class=\"carousel-item active\">\n",
    "                <img src=\"https://via.placeholder.com/1920x500\" class=\"d-block w-100\" alt=\"...\">\n",
    "            </div>\n",
    "            <div class=\"carousel-item\">\n",
    "                <img src=\"https://via.placeholder.com/1920x500\" class=\"d-block w-100\" alt=\"...\">\n",
    "            </div>\n",
    "            <div class=\"carousel-item\">\n",
    "                <img src=\"https://via.placeholder.com/1920x500\" class=\"d-block w-100\" alt=\"...\">\n",
    "            </div>\n",
    "        </div>\n",
    "        <button class=\"carousel-control-prev\" type=\"button\" data-bs-target=\"#carouselExampleControls\" data-bs-slide=\"prev\">\n",
    "            <span class=\"carousel-control-prev-icon\" aria-hidden=\"true\"></span>\n",
    "            <span class=\"visually-hidden\">Previous</span>\n",
    "        </button>\n",
    "        <button class=\"carousel-control-next\" type=\"button\" data-bs-target=\"#carouselExampleControls\" data-bs-slide=\"next\">\n",
    "            <span class=\"carousel-control-next-icon\" aria-hidden=\"true\"></span>\n",
    "            <span class=\"visually-hidden\">Next</span>\n",
    "        </button>\n",
    "    </div>\n",
    "    <div class=\"container mt-5\">\n",
    "        <h1 class=\"text-center\">Introduction to HematoVision</h1>\n",
    "        <p>Lorem ipsum dolor sit amet, consectetur adipiscing elit, sed do eiusmod tempor incididunt ut labore et dolore magna aliqua.</p>\n",
    "        <button type=\"button\" class=\"btn btn-primary\" data-bs-toggle=\"modal\" data-bs-target=\"#exampleModal\">\n",
    "            Learn More\n",
    "        </button>\n",
    "    </div>\n",
    "    <div class=\"container mt-5\">\n",
    "        <h1 class=\"text-center\">How it Works</h1>\n",
    "        <div class=\"accordion accordion-flush\" id=\"accordionFlushExample\">\n",
    "            <div class=\"accordion-item\">\n",
    "                <h2 class=\"accordion-header\" id=\"flush-headingOne\">\n",
    "                    <button class=\"accordion-button collapsed\" type=\"button\" data-bs-toggle=\"collapse\" data-bs-target=\"#flush-collapseOne\" aria-expanded=\"false\" aria-controls=\"flush-collapseOne\">\n",
    "                        Transfer Learning\n",
    "                    </button>\n",
    "                </h2>\n",
    "                <div id=\"flush-collapseOne\" class=\"accordion-collapse collapse\" aria-labelledby=\"flush-headingOne\" data-bs-parent=\"#accordionFlushExample\">\n",
    "                    <div class=\"accordion-body\">Lorem ipsum dolor sit amet, consectetur adipiscing elit, sed do eiusmod tempor incididunt ut labore et dolore magna aliqua.</div>\n",
    "                </div>\n",
    "            </div>\n",
    "            <div class=\"accordion-item\">\n",
    "                <h2 class=\"accordion-header\" id=\"flush-headingTwo\">\n",
    "                    <button class=\"accordion-button collapsed\" type=\"button\" data-bs-toggle=\"collapse\" data-bs-target=\"#flush-collapseTwo\" aria-expanded=\"false\" aria-controls=\"flush-collapseTwo\">\n",
    "                        Blood Cell Classification\n",
    "                    </button>\n",
    "                </h2>\n",
    "                <div id=\"flush-collapseTwo\" class=\"accordion-collapse collapse\" aria-labelledby=\"flush-headingTwo\" data-bs-parent=\"#accordionFlushExample\">\n",
    "                    <div class=\"accordion-body\">Lorem ipsum dolor sit amet, consectetur adipiscing elit, sed do eiusmod tempor incididunt ut labore et dolore magna aliqua.</div>\n",
    "                </div>\n",
    "            </div>\n",
    "        </div>\n",
    "    </div>\n",
    "    <div class=\"container mt-5\">\n",
    "        <h1 class=\"text-center\">Features</h1>\n",
    "        <div class=\"row\">\n",
    "            <div class=\"col-md-4\">\n",
    "                <h2>Feature 1</h2>\n",
    "                <p>Lorem ipsum dolor sit amet, consectetur adipiscing elit, sed do eiusmod tempor incididunt ut labore et dolore magna aliqua.</p>\n",
    "            </div>\n",
    "            <div class=\"col-md-4\">\n",
    "                <h2>Feature 2</h2>\n",
    "                <p>Lorem ipsum dolor sit amet, consectetur adipiscing elit, sed do eiusmod tempor incididunt ut labore et dolore magna aliqua.</p>\n",
    "            </div>\n",
    "            <div class=\"col-md-4\">\n",
    "                <h2>Feature 3</h2>\n",
    "                <p>Lorem ipsum dolor sit amet, consectetur adipiscing elit, sed do eiusmod tempor incididunt ut labore et dolore magna aliqua.</p>\n",
    "            </div>\n",
    "        </div>\n",
    "    </div>\n",
    "    <div class=\"container mt-5\">\n",
    "        <h1 class=\"text-center\">Call to Action</h1>\n",
    "        <p>Lorem ipsum dolor sit amet, consectetur adipiscing elit, sed do eiusmod tempor incididunt ut labore et dolore magna aliqua.</p>\n",
    "        <button type=\"button\" class=\"btn btn-primary\">Learn More</button>\n",
    "    </div>\n",
    "    <div class=\"modal fade\" id=\"exampleModal\" tabindex=\"-1\" aria-labelledby=\"exampleModalLabel\" aria-hidden=\"true\">\n",
    "        <div class=\"modal-dialog\">\n",
    "            <div class=\"modal-content\">\n",
    "                <div class=\"modal-header\">\n",
    "                    <h5 class=\"modal-title\" id=\"exampleModalLabel\">Modal title</h5>\n",
    "                    <button type=\"button\" class=\"btn-close\" data-bs-dismiss=\"modal\" aria-label=\"Close\"></button>\n",
    "                </div>\n",
    "                <div class=\"modal-body\">\n",
    "                    Lorem ipsum dolor sit amet, consectetur adipiscing elit, sed do eiusmod tempor incididunt ut labore et dolore magna aliqua.\n",
    "                </div>\n",
    "                <div class=\"modal-footer\">\n",
    "                    <button type=\"button\" class=\"btn btn-secondary\" data-bs-dismiss=\"modal\">Close</button>\n",
    "                    <button type=\"button\" class=\"btn btn-primary\">Save changes</button>\n",
    "                </div>\n",
    "            </div>\n",
    "        </div>\n",
    "    </div>\n",
    "    <footer class=\"bg-light text-center text-lg-start\">\n",
    "        <div class=\"container p-4\">\n",
    "            <div class=\"row\">\n",
    "                <div class=\"col-lg-6 col-md-12 mb-4 mb-md-0\">\n",
    "                    <h5 class=\"text-uppercase\">Footer Content</h5>\n",
    "                    <p>\n",
    "                        Lorem ipsum dolor sit amet, consectetur adipiscing elit, sed do eiusmod tempor incididunt ut labore et dolore magna aliqua.\n",
    "                    </p>\n",
    "                </div>\n",
    "                <div class=\"col-lg-3 col-md-6 mb-4 mb-md-0\">\n",
    "                    <h5 class=\"text-uppercase\">Links</h5>\n",
    "                    <ul class=\"list-unstyled mb-0\">\n",
    "                        <li>\n",
    "                            <a href=\"#\" class=\"text-dark\">Link 1</a>\n",
    "                        </li>\n",
    "                        <li>\n",
    "                            <a href=\"#\" class=\"text-dark\">Link 2</a>\n",
    "                        </li>\n",
    "                        <li>\n",
    "                            <a href=\"#\" class=\"text-dark\">Link 3</a>\n",
    "                        </li>\n",
    "                        <li>\n",
    "                            <a href=\"#\" class=\"text-dark\">Link 4</a>\n",
    "                        </li>\n",
    "                    </ul>\n",
    "                </div>\n",
    "                <div class=\"col-lg-3 col-md-6 mb-4 mb-md-0\">\n",
    "                    <h5 class=\"text-uppercase\">Social Media</h5>\n",
    "                    <ul class=\"list-unstyled mb-0\">\n",
    "                        <li>\n",
    "                            <a href=\"#\" class=\"text-dark\">Facebook</a>\n",
    "                        </li>\n",
    "                        <li>\n",
    "                            <a href=\"#\" class=\"text-dark\">Twitter</a>\n",
    "                        </li>\n",
    "                        <li>\n",
    "                            <a href=\"#\" class=\"text-dark\">Instagram</a>\n",
    "                        </li>\n",
    "                        <li>\n",
    "                            <a href=\"#\" class=\"text-dark\">LinkedIn</a>\n",
    "                        </li>\n",
    "                    </ul>\n",
    "                </div>\n",
    "            </div>\n",
    "        </div>\n",
    "        <div class=\"text-center p-3\" style=\"background-color: rgba(0, 0, 0, 0.2);\">\n",
    "            &copy; 2023 HematoVision\n",
    "        </div>\n",
    "    </footer>\n",
    "    <script src=\"https://cdn.jsdelivr.net/npm/bootstrap@5.1.3/dist/js/bootstrap.bundle.min.js\"></script>\n",
    "</body>\n",
    "</html>"
   ]
  }
 ],
 "metadata": {
  "kernelspec": {
   "display_name": "Python 3 (ipykernel)",
   "language": "python",
   "name": "python3"
  },
  "language_info": {
   "codemirror_mode": {
    "name": "ipython",
    "version": 3
   },
   "file_extension": ".py",
   "mimetype": "text/x-python",
   "name": "python",
   "nbconvert_exporter": "python",
   "pygments_lexer": "ipython3",
   "version": "3.12.4"
  }
 },
 "nbformat": 4,
 "nbformat_minor": 5
}
